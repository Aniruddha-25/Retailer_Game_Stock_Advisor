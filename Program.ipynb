{
 "cells": [
  {
   "cell_type": "markdown",
   "metadata": {},
   "source": [
    "<p style=\"text-align:center\">\n",
    "    <a href=\"https://skills.network\" target=\"_blank\">\n",
    "    <img src=\"https://cf-courses-data.s3.us.cloud-object-storage.appdomain.cloud/assets/logos/SN_web_lightmode.png\" width=\"200\" alt=\"Skills Network Logo\"  />\n",
    "    </a>\n",
    "</p>\n"
   ]
  },
  {
   "cell_type": "markdown",
   "metadata": {},
   "source": [
    "<h1><center>Final Assignment</center></h1>\n"
   ]
  },
  {
   "cell_type": "markdown",
   "metadata": {},
   "source": [
    "--------------------------------------------------------"
   ]
  },
  {
   "cell_type": "markdown",
   "metadata": {},
   "source": [
    "### Project Idea: “Retailer Game Stock Advisor”\n",
    "-------------------------------------------------------\n",
    "\n",
    "#### Objective\n",
    "\n",
    "- Predict which games are likely to sell the most.\n",
    "\n",
    "- Recommend to Retailor which platforms, genres, or specific games distributor should buy to maximize revenue.\n",
    "\n",
    "- Help avoid overstocking poorly performing games."
   ]
  },
  {
   "cell_type": "markdown",
   "metadata": {},
   "source": [
    "--------------------------------------------------------"
   ]
  },
  {
   "cell_type": "markdown",
   "metadata": {},
   "source": [
    "Install the Libraries from Requirement.txt\n",
    "\n",
    "These libraries are used for data loading preprocessing, modeling, and visualization."
   ]
  },
  {
   "cell_type": "markdown",
   "metadata": {},
   "source": [
    "--------------------------------------------------------"
   ]
  },
  {
   "cell_type": "markdown",
   "metadata": {},
   "source": [
    "=> Import The Libraries"
   ]
  },
  {
   "cell_type": "code",
   "execution_count": null,
   "metadata": {},
   "outputs": [],
   "source": [
    "import pandas as pd\n",
    "import matplotlib.pyplot as plt\n",
    "from sklearn.ensemble import RandomForestRegressor\n",
    "from sklearn.preprocessing import OneHotEncoder\n",
    "from sklearn.compose import ColumnTransformer\n",
    "from sklearn.pipeline import Pipeline"
   ]
  },
  {
   "cell_type": "markdown",
   "metadata": {},
   "source": [
    "=> Dataset Description & Loading\n",
    "\n",
    "Load the dataset\n",
    "\n",
    "Remove missing values\n",
    "\n",
    "Display structure and basic details"
   ]
  },
  {
   "cell_type": "code",
   "execution_count": null,
   "metadata": {},
   "outputs": [],
   "source": [
    "df = pd.read_csv(\"Video Game Sale.csv\")\n",
    "df = df.dropna(subset=[\"Global_Sales\"])\n",
    "df = df.dropna()"
   ]
  },
  {
   "cell_type": "markdown",
   "metadata": {},
   "source": [
    "=> Analysis Objective\n",
    "\n",
    "Goal: Predict Global_Sales using regression models\n",
    "\n",
    "Benefit: Helps retailers/publishers identify high-sales games"
   ]
  },
  {
   "cell_type": "markdown",
   "metadata": {},
   "source": [
    "=> FEATURE SELECTION"
   ]
  },
  {
   "cell_type": "markdown",
   "metadata": {},
   "source": [
    "Dataset Overview\n",
    "\n",
    "Feature Matrix (Inputs) - `X`\n",
    "\n",
    "The model is trained using the following input features:\n",
    "\n",
    "| Feature        | Description                                   |\n",
    "|----------------|-----------------------------------------------|\n",
    "| `Platform`     | Gaming platform (e.g., PS4, XBox, Switch)    |\n",
    "| `Year`         | Year of release                               |\n",
    "| `Genre`        | Game genre (e.g., Action, Sports, RPG)       |\n",
    "| `Publisher`    | Company that published the game              |\n",
    "| `NA_Sales`     | Sales in North America (millions of units)   |\n",
    "| `EU_Sales`     | Sales in Europe (millions of units)          |\n",
    "| `JP_Sales`     | Sales in Japan (millions of units)           |\n",
    "| `Other_Sales`  | Sales in other regions (millions of units)   |\n",
    "\n",
    "Target Variable - `y`\n",
    "\n",
    "The model learns to predict the **global sales** of a game:\n",
    "\n",
    "| Target         | Description                                   |\n",
    "|----------------|-----------------------------------------------|\n",
    "| `Global_Sales` | Total worldwide sales (millions of units)    |\n"
   ]
  },
  {
   "cell_type": "code",
   "execution_count": null,
   "metadata": {},
   "outputs": [],
   "source": [
    "X = df[\n",
    "    [\n",
    "        \"Platform\",\n",
    "        \"Year\",\n",
    "        \"Genre\",\n",
    "        \"Publisher\",\n",
    "        \"NA_Sales\",\n",
    "        \"EU_Sales\",\n",
    "        \"JP_Sales\",\n",
    "        \"Other_Sales\",\n",
    "    ]\n",
    "]\n",
    "y = df[\"Global_Sales\"]\n",
    "\n",
    "categorical = [\"Platform\", \"Genre\", \"Publisher\"]\n",
    "numerical = [\"Year\", \"NA_Sales\", \"EU_Sales\", \"JP_Sales\", \"Other_Sales\"]"
   ]
  },
  {
   "cell_type": "markdown",
   "metadata": {},
   "source": [
    "=> Preprocessing Pipeline\n"
   ]
  },
  {
   "cell_type": "markdown",
   "metadata": {},
   "source": [
    "Model Pipeline Overview\n",
    "\n",
    "- **Preprocessor**\n",
    "  - Converts categorical columns (Platform, Genre, Publisher) into numbers  \n",
    "  - Leaves numerical columns unchanged  \n",
    "  - Can handle new/unseen categories during prediction  \n",
    "\n",
    "- **Pipeline**\n",
    "  - Combines preprocessing with a Random Forest model (200 trees, random_state=42)  \n",
    "  - Provides a single workflow for training and prediction  \n",
    "\n",
    "- **Purpose**\n",
    "  - Ensure consistent data processing  \n",
    "  - Predict global sales accurately\n",
    "\n"
   ]
  },
  {
   "cell_type": "code",
   "execution_count": null,
   "metadata": {},
   "outputs": [],
   "source": [
    "preprocessor = ColumnTransformer(\n",
    "    [\n",
    "        (\"cat\", OneHotEncoder(handle_unknown=\"ignore\"), categorical),\n",
    "        (\"num\", \"passthrough\", numerical),\n",
    "    ]\n",
    ")\n",
    "\n",
    "\n",
    "rf_model = Pipeline(\n",
    "    [\n",
    "        (\"prep\", preprocessor),\n",
    "        (\"model\", RandomForestRegressor(n_estimators=200, random_state=42, n_jobs=-1)),\n",
    "    ]\n",
    ")"
   ]
  },
  {
   "cell_type": "markdown",
   "metadata": {},
   "source": [
    "- Trains the pipeline on features `X` and target `y` becomes a fitted pipeline ready for predictions"
   ]
  },
  {
   "cell_type": "code",
   "execution_count": null,
   "metadata": {},
   "outputs": [],
   "source": [
    "rf_model.fit(X, y)"
   ]
  },
  {
   "cell_type": "markdown",
   "metadata": {},
   "source": [
    "Predicting Top Games for a Year\n",
    "\n",
    "- **Year input:** User enters the year for predictions  \n",
    "- **Data preparation:**  \n",
    "  - If the year exists in data, use existing rows  \n",
    "  - Otherwise, create rows with all platform-genre-publisher combinations and average sales for numeric columns  \n",
    "  - Assign default game names if missing  \n",
    "\n",
    "- **Prediction:**  \n",
    "  - Select relevant features (`Platform`, `Year`, `Genre`, `Publisher`, `NA_Sales`, `EU_Sales`, `JP_Sales`, `Other_Sales`)  \n",
    "  - Use `rf_model.predict` to estimate `Predicted_Global_Sales`  \n",
    "\n",
    "- **Output:**  \n",
    "  - Sort games by predicted sales  \n",
    "  - Let user choose how many top games to display based on retailer capacity\n"
   ]
  },
  {
   "cell_type": "code",
   "execution_count": null,
   "metadata": {},
   "outputs": [],
   "source": [
    "year_input = int(input(\"Enter the year for which you want predictions: \"))\n",
    "\n",
    "\n",
    "if year_input in df[\"Year\"].values:\n",
    "    df_year = df[df[\"Year\"] == year_input].copy()\n",
    "else:\n",
    "    df_year = df[[\"Platform\", \"Genre\", \"Publisher\"]].drop_duplicates().copy()\n",
    "    df_year[\"Year\"] = year_input\n",
    "    df_year[\"NA_Sales\"] = df[\"NA_Sales\"].mean()\n",
    "    df_year[\"EU_Sales\"] = df[\"EU_Sales\"].mean()\n",
    "    df_year[\"JP_Sales\"] = df[\"JP_Sales\"].mean()\n",
    "    df_year[\"Other_Sales\"] = df[\"Other_Sales\"].mean()\n",
    "\n",
    "if \"Name\" in df.columns:\n",
    "    df_year[\"Game_Name\"] = df_year.get(\n",
    "        \"Name\", [\"Game \" + str(i + 1) for i in range(len(df_year))]\n",
    "    )\n",
    "else:\n",
    "    df_year[\"Game_Name\"] = [\"Game \" + str(i + 1) for i in range(len(df_year))]\n",
    "\n",
    "X_year = df_year[\n",
    "    [\n",
    "        \"Platform\",\n",
    "        \"Year\",\n",
    "        \"Genre\",\n",
    "        \"Publisher\",\n",
    "        \"NA_Sales\",\n",
    "        \"EU_Sales\",\n",
    "        \"JP_Sales\",\n",
    "        \"Other_Sales\",\n",
    "    ]\n",
    "]\n",
    "df_year[\"Predicted_Global_Sales\"] = rf_model.predict(X_year)\n",
    "\n",
    "df_sorted = df_year.sort_values(\"Predicted_Global_Sales\", ascending=False).reset_index(\n",
    "    drop=True\n",
    ")\n",
    "\n",
    "\n",
    "max_games = int(input(\"Enter the number of games the retailer can stock: \"))\n",
    "top_games = df_sorted.head(max_games).sort_values(\n",
    "    \"Predicted_Global_Sales\", ascending=False\n",
    ")"
   ]
  },
  {
   "cell_type": "markdown",
   "metadata": {},
   "source": [
    "Predicted Global Sales Plot\n",
    "\n",
    "The plot provides an intuitive visual comparison of predicted sales across all games for a specific year (`year_input`).\n",
    "\n",
    "- **X-axis:** Games, sorted by predicted sales (individual labels are hidden for clarity).  \n",
    "\n",
    "- **Y-axis:** Predicted global sales in millions. \n",
    "\n",
    "- **Line and Markers:** Each game’s predicted sales is represented by a blue line with circular markers.  \n",
    "\n",
    "\n"
   ]
  },
  {
   "cell_type": "code",
   "execution_count": null,
   "metadata": {},
   "outputs": [],
   "source": [
    "plt.figure(figsize=(14, 6))\n",
    "plt.plot(\n",
    "    df_sorted.index,\n",
    "    df_sorted[\"Predicted_Global_Sales\"],\n",
    "    marker=\"o\",\n",
    "    linestyle=\"-\",\n",
    "    color=\"blue\",\n",
    ")\n",
    "plt.xticks([])\n",
    "plt.xlabel(\"Games (sorted by predicted sales)\")\n",
    "plt.ylabel(\"Predicted Global Sales (millions)\")\n",
    "plt.title(f\"Predicted Global Sales for Each Game in {year_input}\")\n",
    "plt.grid(True)\n",
    "plt.show()"
   ]
  },
  {
   "cell_type": "markdown",
   "metadata": {},
   "source": [
    "Recommended Games to Stock\n",
    "\n",
    "This section lists the **top recommended games to stock** for the selected year (`year_input`) based on predicted global sales. \n",
    "\n",
    "- Each game is displayed with:\n",
    "  - **Rank** (based on predicted sales)\n",
    "  - **Game Name**\n",
    "  - **Platform**\n",
    "  - **Genre**\n",
    "  - **Predicted Global Sales** (in millions, rounded to 2 decimal places)\n",
    "\n",
    "\n"
   ]
  },
  {
   "cell_type": "code",
   "execution_count": null,
   "metadata": {},
   "outputs": [],
   "source": [
    "print(f\"\\nRecommended Games to Stock in {year_input}:\")\n",
    "for i, row in top_games.iterrows():\n",
    "    print(\n",
    "        f\"{i+1}. {row['Game_Name']} - Platform: {row['Platform']}, Genre: {row['Genre']}, Predicted Sales: {row['Predicted_Global_Sales']:.2f}M\"\n",
    "    )"
   ]
  }
 ],
 "metadata": {
  "kernelspec": {
   "display_name": "Python 3",
   "language": "python",
   "name": "python3"
  },
  "language_info": {
   "codemirror_mode": {
    "name": "ipython",
    "version": 3
   },
   "file_extension": ".py",
   "mimetype": "text/x-python",
   "name": "python",
   "nbconvert_exporter": "python",
   "pygments_lexer": "ipython3",
   "version": "3.12.10"
  },
  "prev_pub_hash": "950c1457b791e813cea9f92a7e72c1d9f9a407fca3545a38bad1fb61e699c6fc"
 },
 "nbformat": 4,
 "nbformat_minor": 4
}
